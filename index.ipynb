{
 "cells": [
  {
   "cell_type": "markdown",
   "metadata": {},
   "source": [
    "# In Depth A/B Testing - Lab\n",
    "\n",
    "## Introduction\n",
    "\n",
    "In this lab, you'll explore a survey from Kaggle regarding budding data scientists. With this, you'll form some initial hypotheses, and test them using the tools you've acquired to date. \n",
    "\n",
    "## Objectives\n",
    "\n",
    "You will be able to:\n",
    "* Conduct t-tests and an ANOVA on a real-world dataset and interpret the results"
   ]
  },
  {
   "cell_type": "markdown",
   "metadata": {},
   "source": [
    "## Load the Dataset and Perform a Brief Exploration\n",
    "\n",
    "The data is stored in a file called **multipleChoiceResponses_cleaned.csv**. Feel free to check out the original dataset referenced at the bottom of this lab, although this cleaned version will undoubtedly be easier to work with. Additionally, meta-data regarding the questions is stored in a file name **schema.csv**. Load in the data itself as a Pandas DataFrame, and take a moment to briefly get acquainted with it.\n",
    "\n",
    "> Note: If you can't get the file to load properly, try changing the encoding format as in `encoding='latin1'`"
   ]
  },
  {
   "cell_type": "code",
   "execution_count": 1,
   "metadata": {},
   "outputs": [],
   "source": [
    "#Your code here\n",
    "import pandas as pd\n",
    "from flatiron_stats import welch_t, p_value_welch_ttest\n",
    "import numpy as np\n",
    "import matplotlib.pyplot as plt\n",
    "import seaborn as sns\n",
    "import scipy.stats as stats\n",
    "\n",
    "import warnings\n",
    "warnings.filterwarnings('ignore')"
   ]
  },
  {
   "cell_type": "code",
   "execution_count": 2,
   "metadata": {},
   "outputs": [
    {
     "data": {
      "text/html": [
       "<div>\n",
       "<style scoped>\n",
       "    .dataframe tbody tr th:only-of-type {\n",
       "        vertical-align: middle;\n",
       "    }\n",
       "\n",
       "    .dataframe tbody tr th {\n",
       "        vertical-align: top;\n",
       "    }\n",
       "\n",
       "    .dataframe thead th {\n",
       "        text-align: right;\n",
       "    }\n",
       "</style>\n",
       "<table border=\"1\" class=\"dataframe\">\n",
       "  <thead>\n",
       "    <tr style=\"text-align: right;\">\n",
       "      <th></th>\n",
       "      <th>GenderSelect</th>\n",
       "      <th>Country</th>\n",
       "      <th>Age</th>\n",
       "      <th>EmploymentStatus</th>\n",
       "      <th>StudentStatus</th>\n",
       "      <th>LearningDataScience</th>\n",
       "      <th>CodeWriter</th>\n",
       "      <th>CareerSwitcher</th>\n",
       "      <th>CurrentJobTitleSelect</th>\n",
       "      <th>TitleFit</th>\n",
       "      <th>...</th>\n",
       "      <th>JobFactorTitle</th>\n",
       "      <th>JobFactorCompanyFunding</th>\n",
       "      <th>JobFactorImpact</th>\n",
       "      <th>JobFactorRemote</th>\n",
       "      <th>JobFactorIndustry</th>\n",
       "      <th>JobFactorLeaderReputation</th>\n",
       "      <th>JobFactorDiversity</th>\n",
       "      <th>JobFactorPublishingOpportunity</th>\n",
       "      <th>exchangeRate</th>\n",
       "      <th>AdjustedCompensation</th>\n",
       "    </tr>\n",
       "  </thead>\n",
       "  <tbody>\n",
       "    <tr>\n",
       "      <th>0</th>\n",
       "      <td>Non-binary, genderqueer, or gender non-conforming</td>\n",
       "      <td>NaN</td>\n",
       "      <td>NaN</td>\n",
       "      <td>Employed full-time</td>\n",
       "      <td>NaN</td>\n",
       "      <td>NaN</td>\n",
       "      <td>Yes</td>\n",
       "      <td>NaN</td>\n",
       "      <td>DBA/Database Engineer</td>\n",
       "      <td>Fine</td>\n",
       "      <td>...</td>\n",
       "      <td>NaN</td>\n",
       "      <td>NaN</td>\n",
       "      <td>NaN</td>\n",
       "      <td>NaN</td>\n",
       "      <td>NaN</td>\n",
       "      <td>NaN</td>\n",
       "      <td>NaN</td>\n",
       "      <td>NaN</td>\n",
       "      <td>NaN</td>\n",
       "      <td>NaN</td>\n",
       "    </tr>\n",
       "    <tr>\n",
       "      <th>1</th>\n",
       "      <td>Female</td>\n",
       "      <td>United States</td>\n",
       "      <td>30.0</td>\n",
       "      <td>Not employed, but looking for work</td>\n",
       "      <td>NaN</td>\n",
       "      <td>NaN</td>\n",
       "      <td>NaN</td>\n",
       "      <td>NaN</td>\n",
       "      <td>NaN</td>\n",
       "      <td>NaN</td>\n",
       "      <td>...</td>\n",
       "      <td>NaN</td>\n",
       "      <td>NaN</td>\n",
       "      <td>NaN</td>\n",
       "      <td>NaN</td>\n",
       "      <td>NaN</td>\n",
       "      <td>Somewhat important</td>\n",
       "      <td>NaN</td>\n",
       "      <td>NaN</td>\n",
       "      <td>NaN</td>\n",
       "      <td>NaN</td>\n",
       "    </tr>\n",
       "    <tr>\n",
       "      <th>2</th>\n",
       "      <td>Male</td>\n",
       "      <td>Canada</td>\n",
       "      <td>28.0</td>\n",
       "      <td>Not employed, but looking for work</td>\n",
       "      <td>NaN</td>\n",
       "      <td>NaN</td>\n",
       "      <td>NaN</td>\n",
       "      <td>NaN</td>\n",
       "      <td>NaN</td>\n",
       "      <td>NaN</td>\n",
       "      <td>...</td>\n",
       "      <td>Very Important</td>\n",
       "      <td>Very Important</td>\n",
       "      <td>Very Important</td>\n",
       "      <td>Very Important</td>\n",
       "      <td>Very Important</td>\n",
       "      <td>Very Important</td>\n",
       "      <td>Very Important</td>\n",
       "      <td>Very Important</td>\n",
       "      <td>NaN</td>\n",
       "      <td>NaN</td>\n",
       "    </tr>\n",
       "    <tr>\n",
       "      <th>3</th>\n",
       "      <td>Male</td>\n",
       "      <td>United States</td>\n",
       "      <td>56.0</td>\n",
       "      <td>Independent contractor, freelancer, or self-em...</td>\n",
       "      <td>NaN</td>\n",
       "      <td>NaN</td>\n",
       "      <td>Yes</td>\n",
       "      <td>NaN</td>\n",
       "      <td>Operations Research Practitioner</td>\n",
       "      <td>Poorly</td>\n",
       "      <td>...</td>\n",
       "      <td>NaN</td>\n",
       "      <td>NaN</td>\n",
       "      <td>NaN</td>\n",
       "      <td>NaN</td>\n",
       "      <td>NaN</td>\n",
       "      <td>NaN</td>\n",
       "      <td>NaN</td>\n",
       "      <td>NaN</td>\n",
       "      <td>1.0</td>\n",
       "      <td>250000.0</td>\n",
       "    </tr>\n",
       "    <tr>\n",
       "      <th>4</th>\n",
       "      <td>Male</td>\n",
       "      <td>Taiwan</td>\n",
       "      <td>38.0</td>\n",
       "      <td>Employed full-time</td>\n",
       "      <td>NaN</td>\n",
       "      <td>NaN</td>\n",
       "      <td>Yes</td>\n",
       "      <td>NaN</td>\n",
       "      <td>Computer Scientist</td>\n",
       "      <td>Fine</td>\n",
       "      <td>...</td>\n",
       "      <td>NaN</td>\n",
       "      <td>NaN</td>\n",
       "      <td>NaN</td>\n",
       "      <td>NaN</td>\n",
       "      <td>NaN</td>\n",
       "      <td>NaN</td>\n",
       "      <td>NaN</td>\n",
       "      <td>NaN</td>\n",
       "      <td>NaN</td>\n",
       "      <td>NaN</td>\n",
       "    </tr>\n",
       "  </tbody>\n",
       "</table>\n",
       "<p>5 rows × 230 columns</p>\n",
       "</div>"
      ],
      "text/plain": [
       "                                        GenderSelect        Country   Age  \\\n",
       "0  Non-binary, genderqueer, or gender non-conforming            NaN   NaN   \n",
       "1                                             Female  United States  30.0   \n",
       "2                                               Male         Canada  28.0   \n",
       "3                                               Male  United States  56.0   \n",
       "4                                               Male         Taiwan  38.0   \n",
       "\n",
       "                                    EmploymentStatus StudentStatus  \\\n",
       "0                                 Employed full-time           NaN   \n",
       "1                 Not employed, but looking for work           NaN   \n",
       "2                 Not employed, but looking for work           NaN   \n",
       "3  Independent contractor, freelancer, or self-em...           NaN   \n",
       "4                                 Employed full-time           NaN   \n",
       "\n",
       "  LearningDataScience CodeWriter CareerSwitcher  \\\n",
       "0                 NaN        Yes            NaN   \n",
       "1                 NaN        NaN            NaN   \n",
       "2                 NaN        NaN            NaN   \n",
       "3                 NaN        Yes            NaN   \n",
       "4                 NaN        Yes            NaN   \n",
       "\n",
       "              CurrentJobTitleSelect TitleFit  ...  JobFactorTitle  \\\n",
       "0             DBA/Database Engineer     Fine  ...             NaN   \n",
       "1                               NaN      NaN  ...             NaN   \n",
       "2                               NaN      NaN  ...  Very Important   \n",
       "3  Operations Research Practitioner   Poorly  ...             NaN   \n",
       "4                Computer Scientist     Fine  ...             NaN   \n",
       "\n",
       "  JobFactorCompanyFunding JobFactorImpact JobFactorRemote JobFactorIndustry  \\\n",
       "0                     NaN             NaN             NaN               NaN   \n",
       "1                     NaN             NaN             NaN               NaN   \n",
       "2          Very Important  Very Important  Very Important    Very Important   \n",
       "3                     NaN             NaN             NaN               NaN   \n",
       "4                     NaN             NaN             NaN               NaN   \n",
       "\n",
       "  JobFactorLeaderReputation JobFactorDiversity JobFactorPublishingOpportunity  \\\n",
       "0                       NaN                NaN                            NaN   \n",
       "1        Somewhat important                NaN                            NaN   \n",
       "2            Very Important     Very Important                 Very Important   \n",
       "3                       NaN                NaN                            NaN   \n",
       "4                       NaN                NaN                            NaN   \n",
       "\n",
       "  exchangeRate AdjustedCompensation  \n",
       "0          NaN                  NaN  \n",
       "1          NaN                  NaN  \n",
       "2          NaN                  NaN  \n",
       "3          1.0             250000.0  \n",
       "4          NaN                  NaN  \n",
       "\n",
       "[5 rows x 230 columns]"
      ]
     },
     "execution_count": 2,
     "metadata": {},
     "output_type": "execute_result"
    }
   ],
   "source": [
    "df = pd.read_csv('multipleChoiceResponses_cleaned.csv', encoding='latin1')\n",
    "df.head()"
   ]
  },
  {
   "cell_type": "code",
   "execution_count": 3,
   "metadata": {
    "scrolled": true
   },
   "outputs": [
    {
     "data": {
      "text/plain": [
       "Master's degree                                                      8204\n",
       "Bachelor's degree                                                    4811\n",
       "Doctoral degree                                                      3543\n",
       "Some college/university study without earning a bachelor's degree     786\n",
       "Professional degree                                                   451\n",
       "I did not complete any formal education past high school              257\n",
       "I prefer not to answer                                                 90\n",
       "Name: FormalEducation, dtype: int64"
      ]
     },
     "execution_count": 3,
     "metadata": {},
     "output_type": "execute_result"
    }
   ],
   "source": [
    "df.FormalEducation.value_counts()"
   ]
  },
  {
   "cell_type": "code",
   "execution_count": 4,
   "metadata": {},
   "outputs": [],
   "source": [
    "b = \"Bachelor's degree\"\n",
    "m = \"Master's degree\"\n",
    "d = \"Doctoral degree\"\n",
    "edu = 'FormalEducation'\n",
    "sal = 'AdjustedCompensation'"
   ]
  },
  {
   "cell_type": "code",
   "execution_count": 5,
   "metadata": {
    "scrolled": false
   },
   "outputs": [
    {
     "data": {
      "text/html": [
       "<div>\n",
       "<style scoped>\n",
       "    .dataframe tbody tr th:only-of-type {\n",
       "        vertical-align: middle;\n",
       "    }\n",
       "\n",
       "    .dataframe tbody tr th {\n",
       "        vertical-align: top;\n",
       "    }\n",
       "\n",
       "    .dataframe thead th {\n",
       "        text-align: right;\n",
       "    }\n",
       "</style>\n",
       "<table border=\"1\" class=\"dataframe\">\n",
       "  <thead>\n",
       "    <tr style=\"text-align: right;\">\n",
       "      <th></th>\n",
       "      <th>FormalEducation</th>\n",
       "      <th>AdjustedCompensation</th>\n",
       "    </tr>\n",
       "  </thead>\n",
       "  <tbody>\n",
       "    <tr>\n",
       "      <th>3</th>\n",
       "      <td>Master's degree</td>\n",
       "      <td>250000.0</td>\n",
       "    </tr>\n",
       "    <tr>\n",
       "      <th>8</th>\n",
       "      <td>Bachelor's degree</td>\n",
       "      <td>64184.8</td>\n",
       "    </tr>\n",
       "    <tr>\n",
       "      <th>9</th>\n",
       "      <td>Bachelor's degree</td>\n",
       "      <td>20882.4</td>\n",
       "    </tr>\n",
       "    <tr>\n",
       "      <th>11</th>\n",
       "      <td>Bachelor's degree</td>\n",
       "      <td>1483.9</td>\n",
       "    </tr>\n",
       "    <tr>\n",
       "      <th>14</th>\n",
       "      <td>Master's degree</td>\n",
       "      <td>36634.4</td>\n",
       "    </tr>\n",
       "  </tbody>\n",
       "</table>\n",
       "</div>"
      ],
      "text/plain": [
       "      FormalEducation  AdjustedCompensation\n",
       "3     Master's degree              250000.0\n",
       "8   Bachelor's degree               64184.8\n",
       "9   Bachelor's degree               20882.4\n",
       "11  Bachelor's degree                1483.9\n",
       "14    Master's degree               36634.4"
      ]
     },
     "execution_count": 5,
     "metadata": {},
     "output_type": "execute_result"
    }
   ],
   "source": [
    "# Compact df by selecting only rows with Bachelor's/Master's/Doctoral degree\n",
    "df = df[(df[edu] == b) | (df[edu] == m) | (df[edu] == d)][[edu, sal]].dropna()\n",
    "df.head()"
   ]
  },
  {
   "cell_type": "code",
   "execution_count": 6,
   "metadata": {
    "scrolled": false
   },
   "outputs": [
    {
     "data": {
      "text/plain": [
       "<AxesSubplot:title={'center':'AdjustedCompensation'}, xlabel='FormalEducation'>"
      ]
     },
     "execution_count": 6,
     "metadata": {},
     "output_type": "execute_result"
    },
    {
     "data": {
      "image/png": "[encoded data removed]",
      "text/plain": [
       "<Figure size 576x576 with 1 Axes>"
      ]
     },
     "metadata": {
      "needs_background": "light"
     },
     "output_type": "display_data"
    }
   ],
   "source": [
    "# Visualize the 3 education degrees with boxplots - excluding outliers\n",
    "df.boxplot('AdjustedCompensation', by='FormalEducation', figsize=(8,8), showfliers=False)"
   ]
  },
  {
   "cell_type": "markdown",
   "metadata": {},
   "source": [
    "## Wages and Education\n",
    "\n",
    "You've been asked to determine whether education is impactful to salary. Develop a hypothesis test to compare the salaries of those with Master's degrees to those with Bachelor's degrees. Are the two statistically different according to your results?\n",
    "\n",
    "> Note: The relevant features are stored in the 'FormalEducation' and 'AdjustedCompensation' features.\n",
    "\n",
    "You may import the functions stored in the `flatiron_stats.py` file to help perform your hypothesis tests. It contains the stats functions that you previously coded: `welch_t(a,b)`, `welch_df(a, b)`, and `p_value(a, b, two_sided=False)`. \n",
    "\n",
    "Note that `scipy.stats.ttest_ind(a, b, equal_var=False)` performs a two-sided Welch's t-test and that p-values derived from two-sided tests are two times the p-values derived from one-sided tests. See the [documentation](https://docs.scipy.org/doc/scipy/reference/generated/scipy.stats.ttest_ind.html) for more information.    "
   ]
  },
  {
   "cell_type": "markdown",
   "metadata": {},
   "source": [
    "**Hypothesis Testing**\n",
    "1. Metrics to be studied: `FormalEducation` vs. `AdjustedCompensation`\n",
    "\n",
    "2. Define the hypotheses:\n",
    "- **Null Hypothesis**: There is no difference in salary between people with Bachelor's Degrees and those with Master's Degrees\n",
    "    \n",
    "    `H_0: mu_M = mu_B`\n",
    "    \n",
    "    \n",
    "- **Alternative Hypothesis**: There is a difference in salary between people with Bachelor's Degrees and those with Master's Degrees\n",
    "    \n",
    "    `H_A: mu_M ≠ mu_B`"
   ]
  },
  {
   "cell_type": "code",
   "execution_count": 7,
   "metadata": {},
   "outputs": [],
   "source": [
    "masters = df[df[edu] == m][sal]\n",
    "bachelors = df[df[edu] == b][sal]"
   ]
  },
  {
   "cell_type": "code",
   "execution_count": 8,
   "metadata": {
    "scrolled": true
   },
   "outputs": [
    {
     "name": "stdout",
     "output_type": "stream",
     "text": [
      "\t\tMean \t\tMedian \t\tMin \tMax\n",
      "Bachelors: \t64887.1 \t38399.4 \t0.0 \t9999999.0\n",
      "Masters: \t69139.9 \t53812.17 \t0.0 \t4498900.0\n"
     ]
    }
   ],
   "source": [
    "print('\\t\\tMean \\t\\tMedian \\t\\tMin \\tMax')\n",
    "print(f\"Bachelors: \\t{round(bachelors.mean(),2)} \\t{round(bachelors.median(),2)} \\t{round(bachelors.min(),2)} \\t{round(bachelors.max(),2)}\")\n",
    "print(f\"Masters: \\t{round(masters.mean(),2)} \\t{round(masters.median(),2)} \\t{round(masters.min(),2)} \\t{round(masters.max(),2)}\")"
   ]
  },
  {
   "cell_type": "code",
   "execution_count": 9,
   "metadata": {
    "scrolled": true
   },
   "outputs": [],
   "source": [
    "# Remove_outliers using Z-Scores\n",
    "def clean(s):\n",
    "    # remove negative values\n",
    "    s = s[s >= 0]\n",
    "    return s[~((s - s.mean()).abs() > (3 * s.std()))]"
   ]
  },
  {
   "cell_type": "code",
   "execution_count": 10,
   "metadata": {},
   "outputs": [],
   "source": [
    "# Apply clean() on data\n",
    "bachelors_2 = clean(bachelors)\n",
    "masters_2 = clean(masters)"
   ]
  },
  {
   "cell_type": "code",
   "execution_count": 11,
   "metadata": {},
   "outputs": [
    {
     "name": "stdout",
     "output_type": "stream",
     "text": [
      "\t\tMean \t\tMedian \t\tMin \tMax\n",
      "Bachelors: \t54193.86 \t38345.78 \t0.0 \t550000.0\n",
      "Masters: \t63756.86 \t53445.86 \t0.0 \t459000.0\n"
     ]
    }
   ],
   "source": [
    "print('\\t\\tMean \\t\\tMedian \\t\\tMin \\tMax')\n",
    "print(f\"Bachelors: \\t{round(bachelors_2.mean(),2)} \\t{round(bachelors_2.median(),2)} \\t{round(bachelors_2.min(),2)} \\t{round(bachelors_2.max(),2)}\")\n",
    "print(f\"Masters: \\t{round(masters_2.mean(),2)} \\t{round(masters_2.median(),2)} \\t{round(masters_2.min(),2)} \\t{round(masters_2.max(),2)}\")"
   ]
  },
  {
   "cell_type": "code",
   "execution_count": 12,
   "metadata": {},
   "outputs": [],
   "source": [
    "# Remove outliers using IQR\n",
    "def clean2(s):\n",
    "    # remove negative values\n",
    "    s = s[s >= 0]\n",
    "    q1 = s.quantile(0.25)\n",
    "    q3 = s.quantile(0.75)\n",
    "    iqr = q3 - q1\n",
    "    return s[~((s < q1 - 1.5 * iqr) | (s > q3 + 1.5 * iqr))]"
   ]
  },
  {
   "cell_type": "code",
   "execution_count": 13,
   "metadata": {},
   "outputs": [
    {
     "name": "stdout",
     "output_type": "stream",
     "text": [
      "\t\tMean \t\tMedian \t\tMin \tMax\n",
      "Bachelors: \t47539.89 \t35667.9 \t0.0 \t180000.0\n",
      "Masters: \t58537.42 \t50224.69 \t0.0 \t192810.0\n"
     ]
    }
   ],
   "source": [
    "# Apply clean2() on data\n",
    "bachelors_3 = clean2(bachelors)\n",
    "masters_3 = clean2(masters)\n",
    "print('\\t\\tMean \\t\\tMedian \\t\\tMin \\tMax')\n",
    "print(f\"Bachelors: \\t{round(bachelors_3.mean(),2)} \\t{round(bachelors_3.median(),2)} \\t{round(bachelors_3.min(),2)} \\t{round(bachelors_3.max(),2)}\")\n",
    "print(f\"Masters: \\t{round(masters_3.mean(),2)} \\t{round(masters_3.median(),2)} \\t{round(masters_3.min(),2)} \\t{round(masters_3.max(),2)}\")"
   ]
  },
  {
   "cell_type": "code",
   "execution_count": 14,
   "metadata": {},
   "outputs": [
    {
     "name": "stdout",
     "output_type": "stream",
     "text": [
      "==================================================\n",
      "\n",
      "Sample Sizes:\n",
      "Bachelors: 1107\n",
      "Masters: 1990\n",
      "Welch's t-test p-value: 0.33077639451272445\n",
      "\n",
      "==================================================\n",
      "\n",
      "Repeated Test with Ouliers Removed Using Z-Scores:\n",
      "\n",
      "Sample Sizes:\n",
      "Bachelors: 1104\n",
      "Masters: 1984\n",
      "Welch's t-test p-value: 0\n",
      "\n",
      "==================================================\n",
      "\n",
      "Repeated Test with Ouliers Removed Using IQR:\n",
      "\n",
      "Sample Sizes:\n",
      "Bachelors: 1067\n",
      "Masters: 1927\n",
      "Welch's t-test p-value: 0\n"
     ]
    }
   ],
   "source": [
    "# Run stats.ttest_ind() on data with outliers \n",
    "test_1 = stats.ttest_ind(masters, bachelors, equal_var=False)\n",
    "p_val1 = test_1.pvalue/2\n",
    "\n",
    "# Run stats.ttest_ind() on data with outliers removed with clean()\n",
    "test_2 = stats.ttest_ind(masters_2, bachelors_2, equal_var=False)\n",
    "p_val2 = test_2.pvalue/2\n",
    "\n",
    "# Run stats.ttest_ind() on data with outliers removed with clean2()\n",
    "test_3 = stats.ttest_ind(masters_3, bachelors_3, equal_var=False)\n",
    "p_val3 = test_3.pvalue/2\n",
    "print(\"==================================================\")\n",
    "print()\n",
    "print(\"Sample Sizes:\")\n",
    "print(f\"Bachelors: {len(bachelors)}\")\n",
    "print(f\"Masters: {len(masters)}\")\n",
    "print(f\"Welch's t-test p-value: {p_val1}\")\n",
    "print()\n",
    "print(\"==================================================\")\n",
    "print()\n",
    "print(\"Repeated Test with Ouliers Removed Using Z-Scores:\")\n",
    "print()\n",
    "print(\"Sample Sizes:\")\n",
    "print(f\"Bachelors: {len(bachelors_2)}\")\n",
    "print(f\"Masters: {len(masters_2)}\")\n",
    "print(f\"Welch's t-test p-value: {int(p_val2)}\")\n",
    "print()\n",
    "print(\"==================================================\")\n",
    "print()\n",
    "print(\"Repeated Test with Ouliers Removed Using IQR:\")\n",
    "print()\n",
    "print(\"Sample Sizes:\")\n",
    "print(f\"Bachelors: {len(bachelors_3)}\")\n",
    "print(f\"Masters: {len(masters_3)}\")\n",
    "print(f\"Welch's t-test p-value: {int(p_val3)}\")"
   ]
  },
  {
   "cell_type": "markdown",
   "metadata": {},
   "source": [
    "## Wages and Education II\n",
    "\n",
    "Now perform a similar statistical test comparing the AdjustedCompensation of those with Bachelor's degrees and those with Doctorates. If you haven't already, be sure to explore the distribution of the AdjustedCompensation feature for any anomalies. "
   ]
  },
  {
   "cell_type": "code",
   "execution_count": 15,
   "metadata": {},
   "outputs": [],
   "source": [
    "# create a new df with only Doctoral degree holders as 'FormalEducation'\n",
    "doctorates = df[df.FormalEducation == \"Doctoral degree\"].AdjustedCompensation"
   ]
  },
  {
   "cell_type": "code",
   "execution_count": 16,
   "metadata": {},
   "outputs": [
    {
     "name": "stdout",
     "output_type": "stream",
     "text": [
      "\t\tMean \t\tMedian \t\tMin \tMax\n",
      "Bachelors: \t64887.1 \t38399.4 \t0.0 \t9999999.0\n",
      "Doctorates: \t29566175.76 \t74131.92  \t-73.52 \t28297400000.0\n"
     ]
    }
   ],
   "source": [
    "print('\\t\\tMean \\t\\tMedian \\t\\tMin \\tMax')\n",
    "print(f\"Bachelors: \\t{round(bachelors.mean(),2)} \\t{round(bachelors.median(),2)} \\t{round(bachelors.min(),2)} \\t{round(bachelors.max(),2)}\")\n",
    "print(f\"Doctorates: \\t{round(doctorates.mean(),2)} \\t{round(doctorates.median(),2)}  \\t{round(doctorates.min(),2)} \\t{round(doctorates.max(),2)}\")"
   ]
  },
  {
   "cell_type": "code",
   "execution_count": 17,
   "metadata": {},
   "outputs": [],
   "source": [
    "# Apply clean() on doctorates\n",
    "doctorates_2 = clean(doctorates)"
   ]
  },
  {
   "cell_type": "code",
   "execution_count": 18,
   "metadata": {},
   "outputs": [
    {
     "name": "stdout",
     "output_type": "stream",
     "text": [
      "After Removing Outliers\n",
      "\t\tMean \t\tMedian \t\tMin \tMax\n",
      "Bachelors: \t54193.86 \t38345.78 \t0.0 \t550000.0\n",
      "Doctorates: \t303722.32 \t74131.92  \t0.0 \t209000000.0\n"
     ]
    }
   ],
   "source": [
    "print('After Removing Outliers')\n",
    "print('\\t\\tMean \\t\\tMedian \\t\\tMin \\tMax')\n",
    "print(f\"Bachelors: \\t{round(bachelors_2.mean(),2)} \\t{round(bachelors_2.median(),2)} \\t{round(bachelors_2.min(),2)} \\t{round(bachelors_2.max(),2)}\")\n",
    "print(f\"Doctorates: \\t{round(doctorates_2.mean(),2)} \\t{round(doctorates_2.median(),2)}  \\t{round(doctorates_2.min(),2)} \\t{round(doctorates_2.max(),2)}\")"
   ]
  },
  {
   "cell_type": "code",
   "execution_count": 19,
   "metadata": {},
   "outputs": [],
   "source": [
    "# Apply clean2() on doctorates\n",
    "doctorates_3 = clean2(doctorates)"
   ]
  },
  {
   "cell_type": "code",
   "execution_count": 20,
   "metadata": {},
   "outputs": [
    {
     "name": "stdout",
     "output_type": "stream",
     "text": [
      "After Removing Outliers\n",
      "\t\tMean \t\tMedian \t\tMin \tMax\n",
      "Bachelors: \t47539.89 \t35667.9 \t0.0 \t180000.0\n",
      "Doctorates: \t80106.3 \t71749.56  \t0.0 \t240000.0\n"
     ]
    }
   ],
   "source": [
    "print('After Removing Outliers')\n",
    "print('\\t\\tMean \\t\\tMedian \\t\\tMin \\tMax')\n",
    "print(f\"Bachelors: \\t{round(bachelors_3.mean(),2)} \\t{round(bachelors_3.median(),2)} \\t{round(bachelors_3.min(),2)} \\t{round(bachelors_3.max(),2)}\")\n",
    "print(f\"Doctorates: \\t{round(doctorates_3.mean(),2)} \\t{round(doctorates_3.median(),2)}  \\t{round(doctorates_3.min(),2)} \\t{round(doctorates_3.max(),2)}\")"
   ]
  },
  {
   "cell_type": "code",
   "execution_count": 21,
   "metadata": {
    "scrolled": false
   },
   "outputs": [
    {
     "name": "stdout",
     "output_type": "stream",
     "text": [
      "==================================================\n",
      "\n",
      "Sample Sizes:\n",
      "Bachelors: 1107\n",
      "Doctorates: 967\n",
      "Welch's t-test p-value: 0.07841190997360128\n",
      "\n",
      "==================================================\n",
      "\n",
      "Repeated Test with Ouliers Removed Using Z-Scores:\n",
      "\n",
      "Bachelors: 1104\n",
      "Doctorates: 965\n",
      "Welch's t-test p-value: 0.06234947382958501\n",
      "\n",
      "==================================================\n",
      "\n",
      "Repeated Test with Ouliers Removed Using IQR:\n",
      "\n",
      "Sample Sizes:\n",
      "Bachelors: 1067\n",
      "Doctorates: 936\n",
      "Welch's t-test p-value: 0\n"
     ]
    }
   ],
   "source": [
    "# Run stats.ttest_ind() on data with outliers \n",
    "test_1 = stats.ttest_ind(doctorates, bachelors, equal_var=False)\n",
    "p_val1 = test_1.pvalue/2\n",
    "\n",
    "# Run stats.ttest_ind() on data with outliers removed with clean()\n",
    "test_2 = stats.ttest_ind(doctorates_2, bachelors_2, equal_var=False)\n",
    "p_val2 = test_2.pvalue/2\n",
    "\n",
    "# Run stats.ttest_ind() on data with outliers removed with clean2()\n",
    "test_3 = stats.ttest_ind(doctorates_3, bachelors_3, equal_var=False)\n",
    "p_val3 = test_3.pvalue/2\n",
    "print(\"==================================================\")\n",
    "print()\n",
    "print('Sample Sizes:')\n",
    "print(f'Bachelors: {len(bachelors)}')\n",
    "print(f'Doctorates: {len(doctorates)}')\n",
    "print(f\"Welch's t-test p-value: {p_val1/2}\")\n",
    "print()\n",
    "print(\"==================================================\")\n",
    "print()\n",
    "print('Repeated Test with Ouliers Removed Using Z-Scores:')\n",
    "print()\n",
    "print(f'Bachelors: {len(bachelors_2)}')\n",
    "print(f'Doctorates: {len(doctorates_2)}')\n",
    "print(f\"Welch's t-test p-value: {p_val2/2}\")\n",
    "print()\n",
    "print(\"==================================================\")\n",
    "print()\n",
    "print(\"Repeated Test with Ouliers Removed Using IQR:\")\n",
    "print()\n",
    "print(\"Sample Sizes:\")\n",
    "print(f\"Bachelors: {len(bachelors_3)}\")\n",
    "print(f\"Doctorates: {len(doctorates_3)}\")\n",
    "print(f\"Welch's t-test p-value: {int(p_val3)}\")"
   ]
  },
  {
   "cell_type": "markdown",
   "metadata": {},
   "source": [
    "## Wages and Education III\n",
    "\n",
    "Remember the multiple comparisons problem; rather than continuing on like this, perform an ANOVA test between the various 'FormalEducation' categories and their relation to 'AdjustedCompensation'."
   ]
  },
  {
   "cell_type": "code",
   "execution_count": 22,
   "metadata": {},
   "outputs": [
    {
     "data": {
      "text/plain": [
       "F_onewayResult(statistic=1.6276474409881452, pvalue=0.19651914373154994)"
      ]
     },
     "execution_count": 22,
     "metadata": {},
     "output_type": "execute_result"
    }
   ],
   "source": [
    "# Using stats.f_oneway() on original data\n",
    "anova = stats.f_oneway(bachelors, masters, doctorates)\n",
    "anova"
   ]
  },
  {
   "cell_type": "code",
   "execution_count": 23,
   "metadata": {},
   "outputs": [],
   "source": [
    "import statsmodels.api as sm\n",
    "from statsmodels.formula.api import ols"
   ]
  },
  {
   "cell_type": "code",
   "execution_count": 24,
   "metadata": {},
   "outputs": [
    {
     "name": "stdout",
     "output_type": "stream",
     "text": [
      "                          sum_sq      df         F    PR(>F)\n",
      "C(FormalEducation)  6.412325e+17     2.0  1.627647  0.196519\n",
      "Residual            7.999414e+20  4061.0       NaN       NaN\n"
     ]
    }
   ],
   "source": [
    "# Run Anova with the linear regression model on original df (with outliers)\n",
    "formula = 'AdjustedCompensation ~ C(FormalEducation)'\n",
    "lm = ols(formula, df).fit()\n",
    "table = sm.stats.anova_lm(lm, typ=2)\n",
    "print(table)"
   ]
  },
  {
   "cell_type": "code",
   "execution_count": 25,
   "metadata": {},
   "outputs": [],
   "source": [
    "# Create df_2 without outliers for each education group (using z-scores)\n",
    "idx_b2 = np.array(bachelors_2.index)\n",
    "idx_m2 = np.array(masters_2.index)\n",
    "idx_d2 = np.array(doctorates_2.index)\n",
    "\n",
    "indexes2 = np.concatenate([idx_b2, idx_m2, idx_d2], axis=0)\n",
    "\n",
    "df_2 = df.loc[indexes2]"
   ]
  },
  {
   "cell_type": "code",
   "execution_count": 26,
   "metadata": {},
   "outputs": [
    {
     "name": "stdout",
     "output_type": "stream",
     "text": [
      "                          sum_sq      df         F    PR(>F)\n",
      "C(FormalEducation)  4.361739e+13     2.0  2.025169  0.132105\n",
      "Residual            4.361375e+16  4050.0       NaN       NaN\n"
     ]
    }
   ],
   "source": [
    "# Run Anova with the linear regression model on df_2\n",
    "formula = 'AdjustedCompensation ~ C(FormalEducation)'\n",
    "lm = ols(formula, df_2).fit()\n",
    "table = sm.stats.anova_lm(lm, typ=2)\n",
    "print(table)"
   ]
  },
  {
   "cell_type": "code",
   "execution_count": 27,
   "metadata": {},
   "outputs": [],
   "source": [
    "# Create df_3 without outliers for each education group (using IQR)\n",
    "idx_b3 = np.array(bachelors_3.index)\n",
    "idx_m3 = np.array(masters_3.index)\n",
    "idx_d3 = np.array(doctorates_3.index)\n",
    "\n",
    "indexes3 = np.concatenate([idx_b3, idx_m3, idx_d3], axis=0)\n",
    "\n",
    "df_3 = df.loc[indexes3]"
   ]
  },
  {
   "cell_type": "code",
   "execution_count": 28,
   "metadata": {},
   "outputs": [
    {
     "name": "stdout",
     "output_type": "stream",
     "text": [
      "                          sum_sq      df           F        PR(>F)\n",
      "C(FormalEducation)  5.463055e+11     2.0  124.446088  3.957086e-53\n",
      "Residual            8.619563e+12  3927.0         NaN           NaN\n"
     ]
    }
   ],
   "source": [
    "# Run Anova with the linear regression model on df_3\n",
    "formula = 'AdjustedCompensation ~ C(FormalEducation)'\n",
    "lm = ols(formula, df_3).fit()\n",
    "table = sm.stats.anova_lm(lm, typ=2)\n",
    "print(table)"
   ]
  },
  {
   "cell_type": "markdown",
   "metadata": {},
   "source": [
    "## Additional Resources\n",
    "\n",
    "Here's the original source where the data was taken from:  \n",
    "    [Kaggle Machine Learning & Data Science Survey 2017](https://www.kaggle.com/kaggle/kaggle-survey-2017)"
   ]
  },
  {
   "cell_type": "markdown",
   "metadata": {},
   "source": [
    "## Summary\n",
    "\n",
    "In this lab, you practiced conducting actual hypothesis tests on actual data. From this, you saw how dependent results can be on the initial problem formulation, including preprocessing!"
   ]
  }
 ],
 "metadata": {
  "kernelspec": {
   "display_name": "Python 3",
   "language": "python",
   "name": "python3"
  },
  "language_info": {
   "codemirror_mode": {
    "name": "ipython",
    "version": 3
   },
   "file_extension": ".py",
   "mimetype": "text/x-python",
   "name": "python",
   "nbconvert_exporter": "python",
   "pygments_lexer": "ipython3",
   "version": "3.8.5"
  },
  "toc": {
   "base_numbering": 1,
   "nav_menu": {},
   "number_sections": true,
   "sideBar": true,
   "skip_h1_title": false,
   "title_cell": "Table of Contents",
   "title_sidebar": "Contents",
   "toc_cell": false,
   "toc_position": {},
   "toc_section_display": true,
   "toc_window_display": false
  }
 },
 "nbformat": 4,
 "nbformat_minor": 2
}
